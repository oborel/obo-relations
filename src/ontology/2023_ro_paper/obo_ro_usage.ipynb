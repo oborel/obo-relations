{
 "cells": [
  {
   "cell_type": "code",
   "execution_count": 261,
   "id": "a0b6f206-5de8-4be2-b80b-d0f1288f173b",
   "metadata": {},
   "outputs": [],
   "source": [
    "import yaml\n",
    "import pandas as pds\n",
    "import seaborn as sns\n",
    "import matplotlib.pyplot as plt\n",
    "from SPARQLWrapper import SPARQLWrapper, JSON\n",
    "from SPARQLWrapper.sparql_dataframe import get_sparql_dataframe"
   ]
  },
  {
   "cell_type": "markdown",
   "id": "9a3c5fc7-5853-4e3e-bce4-ad80562d5b35",
   "metadata": {},
   "source": [
    "create list of obo namespaces  \n",
    "obo_ontologies.yml downloaded from obofoundry.org"
   ]
  },
  {
   "cell_type": "code",
   "execution_count": 145,
   "id": "86f65494-083a-4a36-acf2-c299c81390fb",
   "metadata": {
    "tags": []
   },
   "outputs": [],
   "source": [
    "with open('obo_ontologies.yml', 'r') as f:\n",
    "    obo_dict = yaml.safe_load(f)"
   ]
  },
  {
   "cell_type": "code",
   "execution_count": 146,
   "id": "e6a28a66-3b9a-4513-a65c-96102decb8fb",
   "metadata": {
    "tags": []
   },
   "outputs": [
    {
     "data": {
      "text/plain": [
       "256"
      ]
     },
     "execution_count": 146,
     "metadata": {},
     "output_type": "execute_result"
    }
   ],
   "source": [
    "namespaces = [o[\"id\"].upper().strip() for o in obo_dict[\"ontologies\"]]\n",
    "len(namespaces)"
   ]
  },
  {
   "cell_type": "markdown",
   "id": "849eec5d-875e-4ec6-aa4d-6ceac3506b36",
   "metadata": {},
   "source": [
    "example of first 5 namespaces"
   ]
  },
  {
   "cell_type": "code",
   "execution_count": 148,
   "id": "4f7ab826-83b3-4675-8c07-9c4f56581271",
   "metadata": {
    "tags": []
   },
   "outputs": [
    {
     "data": {
      "text/plain": [
       "['ADO', 'AGRO', 'AISM', 'AMPHX', 'APO']"
      ]
     },
     "execution_count": 148,
     "metadata": {},
     "output_type": "execute_result"
    }
   ],
   "source": [
    "namespaces[:5]"
   ]
  },
  {
   "cell_type": "markdown",
   "id": "9a16d1c3-44c8-448f-aa2b-001691fd7d72",
   "metadata": {},
   "source": [
    "set Ontobee endpoint and return format"
   ]
  },
  {
   "cell_type": "code",
   "execution_count": 152,
   "id": "f535e740-57c9-4bf1-9fda-287f68cb0b4e",
   "metadata": {
    "tags": []
   },
   "outputs": [],
   "source": [
    "endpoint = \"http://sparql.hegroup.org/sparql/\""
   ]
  },
  {
   "cell_type": "code",
   "execution_count": 153,
   "id": "b2ce2907-18eb-4135-b14f-2c1b8b2ab5b2",
   "metadata": {
    "tags": []
   },
   "outputs": [],
   "source": [
    "sparql = SPARQLWrapper(endpoint)\n",
    "sparql.setReturnFormat(JSON)"
   ]
  },
  {
   "cell_type": "markdown",
   "id": "a816f9cb-92a0-4ff1-8277-2082058509f0",
   "metadata": {},
   "source": [
    "define function to get RO relations from each ontology  \n",
    "`namespace` is used to get the Ontobee graph"
   ]
  },
  {
   "cell_type": "code",
   "execution_count": 176,
   "id": "d5df6670-e2c3-40b8-a5fe-eb340d281a53",
   "metadata": {
    "tags": []
   },
   "outputs": [],
   "source": [
    "def make_query(namepace):\n",
    "    q = \"\"\"\n",
    "    prefix rdf: <http://www.w3.org/1999/02/22-rdf-syntax-ns#>\n",
    "    prefix rdfs: <http://www.w3.org/2000/01/rdf-schema#>\n",
    "    prefix owl: <http://www.w3.org/2002/07/owl#>\n",
    "    prefix merged: <http://purl.obolibrary.org/obo/merged/>\n",
    "    \n",
    "    select distinct ?namespace ?ro ?label where \n",
    "    {\n",
    "      # set of BFO relations in RO\n",
    "      values ?bfo_ro \n",
    "      {\n",
    "        \"obo:BFO_0000050\" \n",
    "        \"obo:BFO_0000051\" \n",
    "        \"obo:BFO_0000054\" \n",
    "        \"obo:BFO_0000055\" \n",
    "        \"obo:BFO_0000060\" \n",
    "        \"obo:BFO_0000062\" \n",
    "        \"obo:BFO_0000063\" \n",
    "        \"obo:BFO_0000066\" \n",
    "        \"obo:BFO_0000067\" \n",
    "      }\n",
    "\n",
    "      graph merged:%s \n",
    "      {\n",
    "        ?r rdf:type owl:ObjectProperty; rdfs:label ?lbl .\n",
    "      }\n",
    "      # bind variables for display and ease of use\n",
    "      bind(str(?lbl) as ?label) # removes lang tag and datatype from lable\n",
    "      bind(\"%s\" as ?namespace)  # display namespace being uses\n",
    "      bind(replace(str(?r), \"http://purl.obolibrary.org/obo/\", \"obo:\") as ?ro) # use OBO curie\n",
    "      \n",
    "      # filter for RO or BFO/RO relations\n",
    "      filter (strstarts(?ro, \"obo:RO_\") || ?ro in (?bfo_ro))\n",
    "    }\n",
    "    \"\"\" % (namepace, namepace)\n",
    "    return q"
   ]
  },
  {
   "cell_type": "code",
   "execution_count": 177,
   "id": "f105b1ec-bfe2-4452-b6a8-69c9bb72d607",
   "metadata": {
    "tags": []
   },
   "outputs": [],
   "source": [
    "# print(make_query(\"OHD\")) # testing"
   ]
  },
  {
   "cell_type": "markdown",
   "id": "b6d5feae-5fb4-4352-9124-58e655cc07ad",
   "metadata": {},
   "source": [
    "create list of dataframes with query results for each ontology"
   ]
  },
  {
   "cell_type": "code",
   "execution_count": 178,
   "id": "98adfc73-71ba-40ff-8c1b-d5fdc7f8d703",
   "metadata": {
    "tags": []
   },
   "outputs": [],
   "source": [
    "dfs = []\n",
    "for ns in namespaces:\n",
    "    if ns in df.namespace.values:\n",
    "        q = make_query(ns)\n",
    "        dfs.append(get_sparql_dataframe(endpoint, q))"
   ]
  },
  {
   "cell_type": "markdown",
   "id": "dd390f43-e4f2-4031-90d3-8beda9f537c5",
   "metadata": {},
   "source": [
    "number of non-empty ontologies"
   ]
  },
  {
   "cell_type": "code",
   "execution_count": 179,
   "id": "0d7582b8-fd30-416c-8ec3-815f33a23fb5",
   "metadata": {
    "tags": []
   },
   "outputs": [
    {
     "data": {
      "text/plain": [
       "153"
      ]
     },
     "execution_count": 179,
     "metadata": {},
     "output_type": "execute_result"
    }
   ],
   "source": [
    "len([df for df in dfs if len(df) > 0])"
   ]
  },
  {
   "cell_type": "markdown",
   "id": "36caa716-84d3-41b9-b3e5-939249f43b06",
   "metadata": {},
   "source": [
    "combine list into single dataframe  \n",
    "note: some relations have more than one label  \n",
    "e.g.: obo:BFO_0000062 -> \"pecedd by\", \"preceded_by\""
   ]
  },
  {
   "cell_type": "code",
   "execution_count": 180,
   "id": "c1fde56e-8e4d-42a0-8ab6-0773eec877e7",
   "metadata": {
    "tags": []
   },
   "outputs": [
    {
     "data": {
      "text/html": [
       "<div>\n",
       "<style scoped>\n",
       "    .dataframe tbody tr th:only-of-type {\n",
       "        vertical-align: middle;\n",
       "    }\n",
       "\n",
       "    .dataframe tbody tr th {\n",
       "        vertical-align: top;\n",
       "    }\n",
       "\n",
       "    .dataframe thead th {\n",
       "        text-align: right;\n",
       "    }\n",
       "</style>\n",
       "<table border=\"1\" class=\"dataframe\">\n",
       "  <thead>\n",
       "    <tr style=\"text-align: right;\">\n",
       "      <th></th>\n",
       "      <th>namespace</th>\n",
       "      <th>ro</th>\n",
       "      <th>label</th>\n",
       "    </tr>\n",
       "  </thead>\n",
       "  <tbody>\n",
       "    <tr>\n",
       "      <th>0</th>\n",
       "      <td>ADO</td>\n",
       "      <td>obo:RO_0002436</td>\n",
       "      <td>molecularly interacts with</td>\n",
       "    </tr>\n",
       "    <tr>\n",
       "      <th>1</th>\n",
       "      <td>ADO</td>\n",
       "      <td>obo:RO_0002213</td>\n",
       "      <td>positively regulates</td>\n",
       "    </tr>\n",
       "    <tr>\n",
       "      <th>2</th>\n",
       "      <td>AGRO</td>\n",
       "      <td>obo:BFO_0000054</td>\n",
       "      <td>realized in</td>\n",
       "    </tr>\n",
       "    <tr>\n",
       "      <th>3</th>\n",
       "      <td>AGRO</td>\n",
       "      <td>obo:BFO_0000055</td>\n",
       "      <td>realizes</td>\n",
       "    </tr>\n",
       "    <tr>\n",
       "      <th>4</th>\n",
       "      <td>AGRO</td>\n",
       "      <td>obo:BFO_0000063</td>\n",
       "      <td>precedes</td>\n",
       "    </tr>\n",
       "    <tr>\n",
       "      <th>5</th>\n",
       "      <td>AGRO</td>\n",
       "      <td>obo:BFO_0000067</td>\n",
       "      <td>contains process</td>\n",
       "    </tr>\n",
       "    <tr>\n",
       "      <th>6</th>\n",
       "      <td>AGRO</td>\n",
       "      <td>obo:BFO_0000051</td>\n",
       "      <td>has_part</td>\n",
       "    </tr>\n",
       "    <tr>\n",
       "      <th>7</th>\n",
       "      <td>AGRO</td>\n",
       "      <td>obo:BFO_0000051</td>\n",
       "      <td>has part</td>\n",
       "    </tr>\n",
       "    <tr>\n",
       "      <th>8</th>\n",
       "      <td>AGRO</td>\n",
       "      <td>obo:BFO_0000062</td>\n",
       "      <td>preceded by</td>\n",
       "    </tr>\n",
       "    <tr>\n",
       "      <th>9</th>\n",
       "      <td>AGRO</td>\n",
       "      <td>obo:BFO_0000062</td>\n",
       "      <td>preceded_by</td>\n",
       "    </tr>\n",
       "  </tbody>\n",
       "</table>\n",
       "</div>"
      ],
      "text/plain": [
       "  namespace               ro                       label\n",
       "0       ADO   obo:RO_0002436  molecularly interacts with\n",
       "1       ADO   obo:RO_0002213        positively regulates\n",
       "2      AGRO  obo:BFO_0000054                 realized in\n",
       "3      AGRO  obo:BFO_0000055                    realizes\n",
       "4      AGRO  obo:BFO_0000063                    precedes\n",
       "5      AGRO  obo:BFO_0000067            contains process\n",
       "6      AGRO  obo:BFO_0000051                    has_part\n",
       "7      AGRO  obo:BFO_0000051                    has part\n",
       "8      AGRO  obo:BFO_0000062                 preceded by\n",
       "9      AGRO  obo:BFO_0000062                 preceded_by"
      ]
     },
     "execution_count": 180,
     "metadata": {},
     "output_type": "execute_result"
    }
   ],
   "source": [
    "df = pds.concat(dfs, ignore_index=True)\n",
    "df.head(10)"
   ]
  },
  {
   "cell_type": "markdown",
   "id": "4420ac39-f941-4c87-9f63-06b04eea50c2",
   "metadata": {},
   "source": [
    "save results for later use"
   ]
  },
  {
   "cell_type": "code",
   "execution_count": 181,
   "id": "7513b78a-3f59-49e5-b9ba-03ed769e8b87",
   "metadata": {
    "tags": []
   },
   "outputs": [],
   "source": [
    "df.to_csv('obo_ro_usage.tsv', sep='\\t', index=False)"
   ]
  },
  {
   "cell_type": "markdown",
   "id": "1f5f736a-549a-4ffa-be47-492050af9f7c",
   "metadata": {},
   "source": [
    "create temp dataframe of unique namepaces and labels  \n",
    "note: filtering out Ro"
   ]
  },
  {
   "cell_type": "code",
   "execution_count": 182,
   "id": "0aa2dfab-bdf8-4655-815d-eb38ccfc21ee",
   "metadata": {
    "tags": []
   },
   "outputs": [],
   "source": [
    "temp_df  = obo_df[['namespace', 'ro']].query('namespace != \"RO\"').drop_duplicates()"
   ]
  },
  {
   "cell_type": "code",
   "execution_count": 183,
   "id": "48ae698a-3f00-4d4f-b60a-056adf0d4c73",
   "metadata": {
    "tags": []
   },
   "outputs": [
    {
     "data": {
      "text/plain": [
       "12387"
      ]
     },
     "execution_count": 183,
     "metadata": {},
     "output_type": "execute_result"
    }
   ],
   "source": [
    "len(temp_df)"
   ]
  },
  {
   "cell_type": "code",
   "execution_count": 291,
   "id": "79877ba7-4fc5-4f66-8072-7578fed8f05c",
   "metadata": {
    "tags": []
   },
   "outputs": [
    {
     "data": {
      "text/plain": [
       "MFMO       634\n",
       "ONTONEO    363\n",
       "OBA        280\n",
       "UPHENO     269\n",
       "MONDO      250\n",
       "          ... \n",
       "EXO          2\n",
       "CHMO         2\n",
       "CHEBI        2\n",
       "MFOEM        2\n",
       "RXNO         1\n",
       "Name: namespace, Length: 152, dtype: int64"
      ]
     },
     "execution_count": 291,
     "metadata": {},
     "output_type": "execute_result"
    }
   ],
   "source": [
    "temp_df.namespace.value_counts()"
   ]
  },
  {
   "cell_type": "code",
   "execution_count": 287,
   "id": "f0a1b0ae-b167-4f83-950e-bc3278fce0a8",
   "metadata": {
    "tags": []
   },
   "outputs": [
    {
     "data": {
      "image/png": "[encoded data removed]",
      "text/plain": [
       "<Figure size 640x480 with 1 Axes>"
      ]
     },
     "metadata": {},
     "output_type": "display_data"
    }
   ],
   "source": [
    "plot_df = pds.DataFrame(temp_df.namespace.value_counts().head(25).reset_index())\n",
    "ax = sns.barplot(y='index', x='namespace', data=plot_df, palette='viridis') #color='steelblue')\n",
    "ax.set(xlabel='Number of RO relations used', ylabel=None)\n",
    "plt.show()"
   ]
  },
  {
   "cell_type": "code",
   "execution_count": 289,
   "id": "1eb571c8-1a78-4e0f-90f0-63d99f9fa354",
   "metadata": {
    "tags": []
   },
   "outputs": [
    {
     "data": {
      "text/plain": [
       "namespace  ro             \n",
       "GO         obo:BFO_0000050    1\n",
       "           obo:BFO_0000051    1\n",
       "           obo:BFO_0000066    1\n",
       "           obo:RO_0002091     1\n",
       "           obo:RO_0002092     1\n",
       "           obo:RO_0002093     1\n",
       "           obo:RO_0002211     1\n",
       "           obo:RO_0002212     1\n",
       "           obo:RO_0002213     1\n",
       "dtype: int64"
      ]
     },
     "execution_count": 289,
     "metadata": {},
     "output_type": "execute_result"
    }
   ],
   "source": [
    "temp_df.query(\"namespace == 'GO'\").value_counts()"
   ]
  },
  {
   "cell_type": "code",
   "execution_count": null,
   "id": "e570fa5a-4a1f-474f-8012-638135d9dded",
   "metadata": {},
   "outputs": [],
   "source": []
  }
 ],
 "metadata": {
  "kernelspec": {
   "display_name": "Python 3 (ipykernel)",
   "language": "python",
   "name": "python3"
  },
  "language_info": {
   "codemirror_mode": {
    "name": "ipython",
    "version": 3
   },
   "file_extension": ".py",
   "mimetype": "text/x-python",
   "name": "python",
   "nbconvert_exporter": "python",
   "pygments_lexer": "ipython3",
   "version": "3.11.2"
  }
 },
 "nbformat": 4,
 "nbformat_minor": 5
}
