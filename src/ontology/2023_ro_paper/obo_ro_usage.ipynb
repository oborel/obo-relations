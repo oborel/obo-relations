{
 "cells": [
  {
   "cell_type": "markdown",
   "id": "0cd6974e-1db1-419d-b049-9bb99bf33d91",
   "metadata": {},
   "source": [
    "# Notebook for creating figures for RO paper"
   ]
  },
  {
   "cell_type": "code",
   "execution_count": 15,
   "id": "4d418fe2-e9f1-403b-9390-c60758ef4df5",
   "metadata": {
    "tags": []
   },
   "outputs": [
    {
     "name": "stdout",
     "output_type": "stream",
     "text": [
      "The autoreload extension is already loaded. To reload it, use:\n",
      "  %reload_ext autoreload\n"
     ]
    }
   ],
   "source": [
    "%load_ext autoreload\n",
    "%autoreload 2"
   ]
  },
  {
   "cell_type": "markdown",
   "id": "5889c652-be4a-4874-b0ea-191e072ddfbf",
   "metadata": {},
   "source": [
    "## document python and jupyter versions"
   ]
  },
  {
   "cell_type": "code",
   "execution_count": 16,
   "id": "da9e8bad-ad97-43c3-b8f7-6d0cec2beba3",
   "metadata": {
    "tags": []
   },
   "outputs": [
    {
     "name": "stdout",
     "output_type": "stream",
     "text": [
      "Python 3.11.2\n"
     ]
    }
   ],
   "source": [
    "!python --version"
   ]
  },
  {
   "cell_type": "code",
   "execution_count": 17,
   "id": "8f49be01-58fa-4e5c-9161-d4252c95434d",
   "metadata": {
    "tags": []
   },
   "outputs": [
    {
     "name": "stdout",
     "output_type": "stream",
     "text": [
      "Selected Jupyter core packages...\n",
      "IPython          : 8.10.0\n",
      "ipykernel        : 6.21.2\n",
      "ipywidgets       : 8.0.4\n",
      "jupyter_client   : 7.4.7\n",
      "jupyter_core     : 5.1.0\n",
      "jupyter_server   : 2.3.0\n",
      "jupyterlab       : 3.6.3\n",
      "nbclient         : 0.7.2\n",
      "nbconvert        : 7.2.9\n",
      "nbformat         : 5.7.3\n",
      "notebook         : 6.5.2\n",
      "qtconsole        : 5.4.0\n",
      "traitlets        : 5.6.0\n"
     ]
    }
   ],
   "source": [
    "!jupyter --version"
   ]
  },
  {
   "cell_type": "markdown",
   "id": "4d36f7d6-4504-4cf7-9b63-d1d36aab4344",
   "metadata": {},
   "source": [
    "---"
   ]
  },
  {
   "cell_type": "code",
   "execution_count": 18,
   "id": "a0b6f206-5de8-4be2-b80b-d0f1288f173b",
   "metadata": {},
   "outputs": [],
   "source": [
    "import yaml\n",
    "import pandas as pds\n",
    "import numpy as np\n",
    "import seaborn as sns\n",
    "import tarfile\n",
    "import matplotlib.pyplot as plt\n",
    "from collections import defaultdict"
   ]
  },
  {
   "cell_type": "markdown",
   "id": "9322ec14-ac7b-41a1-ada2-06f32f14ffab",
   "metadata": {},
   "source": [
    "### create list of obo ontologies from yaml file downloaded from obofoundry.org"
   ]
  },
  {
   "cell_type": "code",
   "execution_count": 19,
   "id": "86f65494-083a-4a36-acf2-c299c81390fb",
   "metadata": {
    "tags": []
   },
   "outputs": [],
   "source": [
    "with open('obo_ontologies.yml', 'r') as f:\n",
    "    obo_dict = yaml.safe_load(f)"
   ]
  },
  {
   "cell_type": "code",
   "execution_count": 20,
   "id": "e6a28a66-3b9a-4513-a65c-96102decb8fb",
   "metadata": {
    "tags": []
   },
   "outputs": [
    {
     "data": {
      "text/plain": [
       "256"
      ]
     },
     "execution_count": 20,
     "metadata": {},
     "output_type": "execute_result"
    }
   ],
   "source": [
    "obo_ids = [o[\"id\"].upper().strip() for o in obo_dict[\"ontologies\"]]\n",
    "len(obo_ids)"
   ]
  },
  {
   "cell_type": "code",
   "execution_count": 21,
   "id": "028b5eec-896d-49c4-b2df-9bed1839385c",
   "metadata": {
    "tags": []
   },
   "outputs": [
    {
     "data": {
      "text/plain": [
       "['ADO', 'AGRO', 'AISM', 'AMPHX', 'APO']"
      ]
     },
     "execution_count": 21,
     "metadata": {},
     "output_type": "execute_result"
    }
   ],
   "source": [
    "obo_ids[:5] # testing"
   ]
  },
  {
   "cell_type": "markdown",
   "id": "dd365906-b44d-4692-91f7-3bff32ed0c79",
   "metadata": {
    "tags": []
   },
   "source": [
    "### simple function identify an RO relation"
   ]
  },
  {
   "cell_type": "code",
   "execution_count": 22,
   "id": "c0f6c3be-e664-4879-bd36-06398cdcc752",
   "metadata": {
    "tags": [
     "function"
    ]
   },
   "outputs": [],
   "source": [
    "def is_ro_predicate(name):\n",
    "    bfo_relations = [\n",
    "        \"BFO:0000050\",\n",
    "        \"BFO:0000051\",\n",
    "        \"BFO:0000054\",\n",
    "        \"BFO:0000055\",\n",
    "        \"BFO:0000060\",\n",
    "        \"BFO:0000062\",\n",
    "        \"BFO:0000063\",\n",
    "        \"BFO:0000066\",\n",
    "        \"BFO:0000067\" \n",
    "    ]\n",
    "    return (name[0:3] == \"RO:\") or (name in bfo_relations)\n",
    "    "
   ]
  },
  {
   "cell_type": "markdown",
   "id": "e4e23bbd-8a95-434d-80cb-7ac09e3abc1e",
   "metadata": {},
   "source": [
    "### get list of obo statistics files from archive"
   ]
  },
  {
   "cell_type": "code",
   "execution_count": 23,
   "id": "bf857b02-6c38-4304-9232-5aae213b200d",
   "metadata": {
    "tags": []
   },
   "outputs": [],
   "source": [
    "with tarfile.open('statistics.tgz', 'r:*') as tar:\n",
    "    obo_filenames = []\n",
    "    non_obo_filenames = []\n",
    "    for name in tar.getnames():\n",
    "        # parse out obo id from file name (after the '/' and before the '.')\n",
    "        # e.g. statistics/ncro.statistics.yaml -> NCRO\n",
    "        # note: the firs file is simply named 'statistics', so check for '/'\n",
    "        if '/' in name:\n",
    "            parsed_name = name.split('/')[1].split('.')[0].upper()\n",
    "        else:\n",
    "            parsed_name = name\n",
    "        \n",
    "        # check id is an obo ontology\n",
    "        if parsed_name in obo_ids:\n",
    "            obo_filenames.append(name)\n",
    "        else:\n",
    "            non_obo_filenames.append(name)"
   ]
  },
  {
   "cell_type": "code",
   "execution_count": 24,
   "id": "a3cc5483-a150-48a9-a13a-ab8d56acbfe0",
   "metadata": {
    "tags": []
   },
   "outputs": [
    {
     "name": "stdout",
     "output_type": "stream",
     "text": [
      "number statistics files: 178\n"
     ]
    }
   ],
   "source": [
    "num_obo_files = len(obo_filenames)\n",
    "print(f'number statistics files: {num_obo_files}')"
   ]
  },
  {
   "cell_type": "markdown",
   "id": "4e81ac70-d209-4fe4-beba-011838fa08a7",
   "metadata": {},
   "source": [
    "files names that were not associated with an obo id"
   ]
  },
  {
   "cell_type": "code",
   "execution_count": 25,
   "id": "4b7b3171-999a-4bed-b9d6-b58e0771663f",
   "metadata": {
    "tags": []
   },
   "outputs": [
    {
     "name": "stdout",
     "output_type": "stream",
     "text": [
      "statistics\n",
      "statistics/edam.statistics.yaml\n",
      "statistics/chebiplus.statistics.yaml\n",
      "statistics/swisslipid.statistics.yaml\n",
      "statistics/cpont.statistics.yaml\n",
      "statistics/reacto.statistics.yaml\n",
      "statistics/eccode.statistics.yaml\n",
      "statistics/sweetAll.statistics.yaml\n",
      "statistics/phenio.statistics.yaml\n",
      "statistics/hgnc.statistics.yaml\n",
      "statistics/mlo.statistics.yaml\n",
      "statistics/enanomapper.statistics.yaml\n",
      "statistics/uniprot.statistics.yaml\n",
      "statistics/go-lego.statistics.yaml\n",
      "statistics/rhea.statistics.yaml\n",
      "statistics/bao.statistics.yaml\n",
      "statistics/biolink.statistics.yaml\n",
      "statistics/drugbank.statistics.yaml\n",
      "statistics/comploinc.statistics.yaml\n",
      "statistics/complexportal.statistics.yaml\n",
      "statistics/hcao.statistics.yaml\n",
      "statistics/bero.statistics.yaml\n",
      "statistics/hgnc.genegroup.statistics.yaml\n",
      "statistics/cosmo.statistics.yaml\n",
      "statistics/msio.statistics.yaml\n",
      "statistics/efo.statistics.yaml\n",
      "statistics/cellosaurus.statistics.yaml\n",
      "statistics/aio.statistics.yaml\n",
      "statistics/co_324.statistics.yaml\n",
      "statistics/dbpendiaont.statistics.yaml\n"
     ]
    }
   ],
   "source": [
    "for name in non_obo_filenames:\n",
    "    print(name)"
   ]
  },
  {
   "cell_type": "code",
   "execution_count": 26,
   "id": "87bad9a0-f91e-4a1e-a599-b8bbd6cfba0a",
   "metadata": {
    "tags": []
   },
   "outputs": [
    {
     "data": {
      "text/plain": [
       "['statistics/ncro.statistics.yaml',\n",
       " 'statistics/scdo.statistics.yaml',\n",
       " 'statistics/stato.statistics.yaml',\n",
       " 'statistics/spd.statistics.yaml',\n",
       " 'statistics/hsapdv.statistics.yaml']"
      ]
     },
     "execution_count": 26,
     "metadata": {},
     "output_type": "execute_result"
    }
   ],
   "source": [
    "obo_filenames[:5] # testing"
   ]
  },
  {
   "cell_type": "markdown",
   "id": "3d87a7eb-7655-48f9-a128-9ed52094993e",
   "metadata": {},
   "source": [
    "### open each obo statistics tar file"
   ]
  },
  {
   "cell_type": "code",
   "execution_count": 27,
   "id": "50a6e5ce-07cc-4adb-b7f5-11fd415bdaa3",
   "metadata": {
    "tags": []
   },
   "outputs": [
    {
     "name": "stdout",
     "output_type": "stream",
     "text": [
      "CHIRO: no partition key\n",
      "UPHENO: no edge_count_by_predicate\n",
      "SBO: no partition key\n",
      "SWO: no partition key\n",
      "KISAO: no partition key\n",
      "DPO: no partition key\n",
      "EPIO: no partition key\n",
      "CMO: no partition key\n",
      "FIDEO: no partition key\n"
     ]
    }
   ],
   "source": [
    "dfs = []\n",
    "with tarfile.open('statistics.tgz', 'r:*') as tar:\n",
    "    for member in tar.getmembers():\n",
    "        if member.isfile() and member.name in obo_filenames:\n",
    "            # get id ontology: after the '/' and before the '.'\n",
    "            # e.g. statistics/ncro.statistics.yaml -> NCRO\n",
    "            ns = member.name.split('/')[1].split('.')[0].upper()\n",
    "            stat_dict =  yaml.safe_load(tar.extractfile(member).read())\n",
    "            # predicates = stat_dict['partitions'][ns]['edge_count_by_predicate'].keys\n",
    "            \n",
    "            try:\n",
    "                # partition = stat_dict['partitions'][ns]\n",
    "                # get partition, and make keys all upper case\n",
    "                # this is to account for cases such as FBcv\n",
    "                # FBcv will be transformed to FBCV for search purposes\n",
    "                partitions = {k.upper():v for k, v in stat_dict['partitions'].items()} \n",
    "                partition_ns = partitions[ns]\n",
    "                \n",
    "                # used for testing\n",
    "                # if ns == 'FBCV':\n",
    "                #     print(partition_ns['edge_count_by_predicate'])\n",
    "                    \n",
    "            except KeyError as ke:\n",
    "                print(f'{ns}: no partition key')\n",
    "                continue\n",
    "\n",
    "            try:\n",
    "                predicates = partition_ns['edge_count_by_predicate'].keys()\n",
    "                ro_predicates = [p for p in predicates if is_ro_predicate(p)]  # filter for RO predicates\n",
    "                if len(ro_predicates) > 0:\n",
    "                    data = {'id': [ns]*len(ro_predicates), 'relation': ro_predicates}\n",
    "                else:\n",
    "                    data = {'id': [ns]*len(ro_predicates), 'relation': np.nan}\n",
    "                \n",
    "                # if ns == 'PR': print(data) # for testing\n",
    "                dfs.append(pds.DataFrame(data))\n",
    "            except KeyError as ke:\n",
    "                print(f'{ns}: no edge_count_by_predicate')\n",
    "                continue"
   ]
  },
  {
   "cell_type": "markdown",
   "id": "e9c57063-14ef-4692-9a7e-74e0bec4a7f5",
   "metadata": {},
   "source": [
    "### build dataframe"
   ]
  },
  {
   "cell_type": "code",
   "execution_count": 28,
   "id": "f9513da6-e6cb-40c5-a89a-2e496e6e9c8d",
   "metadata": {
    "tags": []
   },
   "outputs": [],
   "source": [
    "df = pds.concat(dfs, ignore_index=True)"
   ]
  },
  {
   "cell_type": "markdown",
   "id": "44c4e02e-43f0-4c51-95af-ce4a371f8785",
   "metadata": {},
   "source": [
    "peek at dataframe"
   ]
  },
  {
   "cell_type": "code",
   "execution_count": 29,
   "id": "61e6bba3-b0e3-4973-8bf2-d10419802067",
   "metadata": {
    "tags": []
   },
   "outputs": [
    {
     "data": {
      "text/html": [
       "<div>\n",
       "<style scoped>\n",
       "    .dataframe tbody tr th:only-of-type {\n",
       "        vertical-align: middle;\n",
       "    }\n",
       "\n",
       "    .dataframe tbody tr th {\n",
       "        vertical-align: top;\n",
       "    }\n",
       "\n",
       "    .dataframe thead th {\n",
       "        text-align: right;\n",
       "    }\n",
       "</style>\n",
       "<table border=\"1\" class=\"dataframe\">\n",
       "  <thead>\n",
       "    <tr style=\"text-align: right;\">\n",
       "      <th></th>\n",
       "      <th>id</th>\n",
       "      <th>relation</th>\n",
       "    </tr>\n",
       "  </thead>\n",
       "  <tbody>\n",
       "    <tr>\n",
       "      <th>0</th>\n",
       "      <td>NCRO</td>\n",
       "      <td>BFO:0000063</td>\n",
       "    </tr>\n",
       "    <tr>\n",
       "      <th>1</th>\n",
       "      <td>NCRO</td>\n",
       "      <td>RO:0000056</td>\n",
       "    </tr>\n",
       "    <tr>\n",
       "      <th>2</th>\n",
       "      <td>NCRO</td>\n",
       "      <td>RO:0000057</td>\n",
       "    </tr>\n",
       "    <tr>\n",
       "      <th>3</th>\n",
       "      <td>NCRO</td>\n",
       "      <td>RO:0001000</td>\n",
       "    </tr>\n",
       "    <tr>\n",
       "      <th>4</th>\n",
       "      <td>SCDO</td>\n",
       "      <td>RO:0003302</td>\n",
       "    </tr>\n",
       "  </tbody>\n",
       "</table>\n",
       "</div>"
      ],
      "text/plain": [
       "     id     relation\n",
       "0  NCRO  BFO:0000063\n",
       "1  NCRO   RO:0000056\n",
       "2  NCRO   RO:0000057\n",
       "3  NCRO   RO:0001000\n",
       "4  SCDO   RO:0003302"
      ]
     },
     "execution_count": 29,
     "metadata": {},
     "output_type": "execute_result"
    }
   ],
   "source": [
    "df.head()"
   ]
  },
  {
   "cell_type": "markdown",
   "id": "8293fe42-e6dc-45f1-89cd-7fede3750e35",
   "metadata": {},
   "source": [
    "testing that mixed case FBcv was processed"
   ]
  },
  {
   "cell_type": "code",
   "execution_count": 30,
   "id": "cbba28d1-9c75-4401-b00d-03c3c93076ca",
   "metadata": {
    "tags": []
   },
   "outputs": [
    {
     "data": {
      "text/html": [
       "<div>\n",
       "<style scoped>\n",
       "    .dataframe tbody tr th:only-of-type {\n",
       "        vertical-align: middle;\n",
       "    }\n",
       "\n",
       "    .dataframe tbody tr th {\n",
       "        vertical-align: top;\n",
       "    }\n",
       "\n",
       "    .dataframe thead th {\n",
       "        text-align: right;\n",
       "    }\n",
       "</style>\n",
       "<table border=\"1\" class=\"dataframe\">\n",
       "  <thead>\n",
       "    <tr style=\"text-align: right;\">\n",
       "      <th></th>\n",
       "      <th>id</th>\n",
       "      <th>relation</th>\n",
       "    </tr>\n",
       "  </thead>\n",
       "  <tbody>\n",
       "    <tr>\n",
       "      <th>508</th>\n",
       "      <td>FBCV</td>\n",
       "      <td>RO:0000087</td>\n",
       "    </tr>\n",
       "  </tbody>\n",
       "</table>\n",
       "</div>"
      ],
      "text/plain": [
       "       id    relation\n",
       "508  FBCV  RO:0000087"
      ]
     },
     "execution_count": 30,
     "metadata": {},
     "output_type": "execute_result"
    }
   ],
   "source": [
    "df.query(\"id == 'FBCV'\")"
   ]
  },
  {
   "cell_type": "markdown",
   "id": "938d9693-b245-4b91-80a4-84fbb59a0590",
   "metadata": {},
   "source": [
    "stats about data processing|"
   ]
  },
  {
   "cell_type": "code",
   "execution_count": 31,
   "id": "78b175ae-bee8-4e11-ba28-cf3e2b80f219",
   "metadata": {
    "tags": []
   },
   "outputs": [
    {
     "name": "stdout",
     "output_type": "stream",
     "text": [
      "dataframe length: 782\n",
      "number of files with RO relation: 111 (out of a total of 178 OBO Foundry ontologies)\n",
      "percent of files with RO relation compared to number of OBO Foundry ontologies: 62.0\n"
     ]
    }
   ],
   "source": [
    "print(f'dataframe length: {len(df)}')\n",
    "\n",
    "unique_df_ids = df[\"id\"].unique()\n",
    "num_unique_df_ids = len(unique_df_ids)\n",
    "print(f'number of files with RO relation: {num_unique_df_ids} (out of a total of {num_obo_files} OBO Foundry ontologies)')\n",
    "print(f'percent of files with RO relation compared to number of OBO Foundry ontologies: {round(num_unique_df_ids/num_obo_files, 2) * 100}')"
   ]
  },
  {
   "cell_type": "markdown",
   "id": "21d1c727-191e-490d-a81b-9f314d8b2849",
   "metadata": {},
   "source": [
    "list of obo foundry ids (from website) that were not in the dataframe ids (extracted from zip files)"
   ]
  },
  {
   "cell_type": "code",
   "execution_count": 32,
   "id": "6cbfe700-8c58-4cd7-88a4-ec0a828fea34",
   "metadata": {
    "tags": []
   },
   "outputs": [
    {
     "name": "stdout",
     "output_type": "stream",
     "text": [
      "ADO\n",
      "APO\n",
      "BFO\n",
      "CDAO\n",
      "CHEMINF\n",
      "CHIRO\n",
      "CIO\n",
      "CMO\n",
      "CRO\n",
      "CTO\n",
      "DDANAT\n",
      "DDPHENO\n",
      "DISDRIV\n",
      "DPO\n",
      "DUO\n",
      "ECO\n",
      "EMAPA\n",
      "EPIO\n",
      "FBBI\n",
      "FIDEO\n",
      "FLOPO\n",
      "FOBI\n",
      "FOODON\n",
      "GEO\n",
      "GNO\n",
      "HANCESTRO\n",
      "HOM\n",
      "HSO\n",
      "HTN\n",
      "MA\n",
      "MCO\n",
      "MFOEM\n",
      "MI\n",
      "MIAPA\n",
      "MICRO\n",
      "MMO\n",
      "MOD\n",
      "MPATH\n",
      "MPIO\n",
      "MS\n",
      "NCBITAXON\n",
      "NCIT\n",
      "NGBO\n",
      "NOMEN\n",
      "OGMS\n",
      "OMO\n",
      "ONE\n",
      "ONTOAVIDA\n",
      "PECO\n",
      "PLANA\n",
      "PLANP\n",
      "PPO\n",
      "PW\n",
      "RS\n",
      "RXNO\n",
      "SO\n",
      "SPD\n",
      "SWO\n",
      "SYMP\n",
      "T4FS\n",
      "TAXRANK\n",
      "TRANS\n",
      "TTO\n",
      "TXPO\n",
      "UO\n",
      "UPHENO\n",
      "VBO\n",
      "VT\n",
      "VTO\n",
      "XLMOD\n",
      "ZECO\n",
      "GSSO\n",
      "HP\n",
      "KISAO\n",
      "SBO\n",
      "FIX\n",
      "MAMO\n",
      "REX\n",
      "SIBO\n",
      "VARIO\n",
      "AEO\n",
      "CEPH\n",
      "EHDAA2\n",
      "FMA\n",
      "GAZ\n",
      "IDOMAL\n",
      "MIRO\n",
      "RNAO\n",
      "TADS\n",
      "TGMA\n",
      "UPA\n",
      "AAO\n",
      "ADW\n",
      "AERO\n",
      "ATO\n",
      "BCGO\n",
      "BILA\n",
      "BOOTSTREP\n",
      "CMF\n",
      "DC_CL\n",
      "DINTO\n",
      "EHDA\n",
      "EHDAA\n",
      "EMAP\n",
      "EO\n",
      "EPO\n",
      "ERO\n",
      "EV\n",
      "FBSP\n",
      "FLU\n",
      "GRO\n",
      "HABRONATTUS\n",
      "IEV\n",
      "IMR\n",
      "IPR\n",
      "LIPRO\n",
      "LOGGERHEAD\n",
      "MAO\n",
      "MAT\n",
      "MFO\n",
      "MIRNAO\n",
      "MO\n",
      "NIF_CELL\n",
      "NIF_DYSFUNCTION\n",
      "NIF_GROSSANATOMY\n",
      "NMR\n",
      "OBO_REL\n",
      "OGI\n",
      "OMIABIS\n",
      "PAO\n",
      "PD_ST\n",
      "PGDSO\n",
      "PLO\n",
      "PROPREO\n",
      "RESID\n",
      "SAO\n",
      "SEP\n",
      "SOPHARM\n",
      "TAHE\n",
      "TAHH\n",
      "TAO\n",
      "VHOG\n",
      "VSAO\n",
      "YPO\n",
      "ZEA\n"
     ]
    }
   ],
   "source": [
    "for id_ in [id_ for id_ in obo_ids if id_ not in unique_df_ids]:\n",
    "    print(id_)"
   ]
  },
  {
   "cell_type": "markdown",
   "id": "c1f14783-b169-44fe-b36d-ab42fe36bd5f",
   "metadata": {},
   "source": [
    "### save dataframe for later use if needed"
   ]
  },
  {
   "cell_type": "code",
   "execution_count": 33,
   "id": "7513b78a-3f59-49e5-b9ba-03ed769e8b87",
   "metadata": {
    "tags": []
   },
   "outputs": [],
   "source": [
    "df.to_csv('obo_ro_usage.tsv', sep='\\t', index=False)"
   ]
  },
  {
   "cell_type": "markdown",
   "id": "22315e2b-7372-4fc5-bb0e-53ff6a096706",
   "metadata": {},
   "source": [
    "### remove RO relations from dataframe and generate stats on RO usage"
   ]
  },
  {
   "cell_type": "code",
   "execution_count": 34,
   "id": "097af352-6908-478e-9f31-05244fc8db95",
   "metadata": {
    "tags": []
   },
   "outputs": [],
   "source": [
    "non_ro_ids = [id_ for id_ in df['id'].values if not is_ro_predicate(id_)]"
   ]
  },
  {
   "cell_type": "code",
   "execution_count": 35,
   "id": "f7853641-f84b-4ce6-9b87-4254cd9973cc",
   "metadata": {
    "tags": []
   },
   "outputs": [],
   "source": [
    "non_ro_df = df[df['id'].isin(non_ro_ids)].drop_duplicates()"
   ]
  },
  {
   "cell_type": "code",
   "execution_count": 36,
   "id": "f5c2b27c-57d2-4bae-9c34-2ec5a632c3d3",
   "metadata": {
    "tags": []
   },
   "outputs": [
    {
     "data": {
      "text/plain": [
       "782"
      ]
     },
     "execution_count": 36,
     "metadata": {},
     "output_type": "execute_result"
    }
   ],
   "source": [
    "len(non_ro_df)"
   ]
  },
  {
   "cell_type": "code",
   "execution_count": 37,
   "id": "0da71c57-ea6c-4283-8d83-3cff2a99e370",
   "metadata": {
    "tags": []
   },
   "outputs": [
    {
     "data": {
      "text/plain": [
       "UBERON         73\n",
       "GO             66\n",
       "ENVO           60\n",
       "FBBT           37\n",
       "CL             32\n",
       "               ..\n",
       "COB             1\n",
       "BSPO            1\n",
       "PDUMDV          1\n",
       "ZP              1\n",
       "WBPHENOTYPE     1\n",
       "Name: id, Length: 111, dtype: int64"
      ]
     },
     "execution_count": 37,
     "metadata": {},
     "output_type": "execute_result"
    }
   ],
   "source": [
    "non_ro_df.id.value_counts()"
   ]
  },
  {
   "cell_type": "code",
   "execution_count": 38,
   "id": "f0a1b0ae-b167-4f83-950e-bc3278fce0a8",
   "metadata": {
    "tags": []
   },
   "outputs": [
    {
     "data": {
      "image/png": "[encoded data removed]",
      "text/plain": [
       "<Figure size 640x480 with 1 Axes>"
      ]
     },
     "metadata": {},
     "output_type": "display_data"
    },
    {
     "data": {
      "text/plain": [
       "<Figure size 640x480 with 0 Axes>"
      ]
     },
     "metadata": {},
     "output_type": "display_data"
    }
   ],
   "source": [
    "plot_df = pds.DataFrame(non_ro_df.id.value_counts().head(25).reset_index())\n",
    "ax = sns.barplot(y='index', x='id', data=plot_df, palette='viridis') #color='steelblue')\n",
    "ax.set(xlabel='Number of RO relations used', ylabel=None)\n",
    "plt.show()\n",
    "plt.savefig('obo_ro_usage.png', dpi=600)"
   ]
  },
  {
   "cell_type": "code",
   "execution_count": null,
   "id": "e1f7d3c6-64ac-48b5-8f39-79023290e646",
   "metadata": {},
   "outputs": [],
   "source": []
  },
  {
   "cell_type": "code",
   "execution_count": null,
   "id": "feb145c8-141b-46f0-9479-677da7ced8e6",
   "metadata": {},
   "outputs": [],
   "source": []
  },
  {
   "cell_type": "markdown",
   "id": "61224c09-ddfa-4da5-acbd-c2d139aba052",
   "metadata": {},
   "source": [
    "---"
   ]
  },
  {
   "cell_type": "markdown",
   "id": "c26e92d3-0c76-4a04-a555-c56737228464",
   "metadata": {},
   "source": [
    "### keeping old code for querying ontobee around for posterity"
   ]
  },
  {
   "cell_type": "code",
   "execution_count": 39,
   "id": "69dbed94-bc8a-4426-ab60-c2d83f59c4e8",
   "metadata": {
    "tags": []
   },
   "outputs": [],
   "source": [
    "import pandas as pds\n",
    "from SPARQLWrapper import SPARQLWrapper, JSON\n",
    "from SPARQLWrapper.sparql_dataframe import get_sparql_dataframe"
   ]
  },
  {
   "cell_type": "markdown",
   "id": "c0e57ae7-d764-499f-9ff3-753321e3fec7",
   "metadata": {},
   "source": [
    "set Ontobee endpoint and return format"
   ]
  },
  {
   "cell_type": "code",
   "execution_count": 40,
   "id": "f535e740-57c9-4bf1-9fda-287f68cb0b4e",
   "metadata": {
    "tags": []
   },
   "outputs": [],
   "source": [
    "endpoint = \"http://sparql.hegroup.org/sparql/\""
   ]
  },
  {
   "cell_type": "code",
   "execution_count": 41,
   "id": "b2ce2907-18eb-4135-b14f-2c1b8b2ab5b2",
   "metadata": {
    "tags": []
   },
   "outputs": [],
   "source": [
    "sparql = SPARQLWrapper(endpoint)\n",
    "sparql.setReturnFormat(JSON)"
   ]
  },
  {
   "cell_type": "code",
   "execution_count": 42,
   "id": "d5df6670-e2c3-40b8-a5fe-eb340d281a53",
   "metadata": {
    "tags": []
   },
   "outputs": [],
   "source": [
    "def make_query(namespace):\n",
    "    q = \"\"\"\n",
    "    prefix rdf: <http://www.w3.org/1999/02/22-rdf-syntax-ns#>\n",
    "    prefix rdfs: <http://www.w3.org/2000/01/rdf-schema#>\n",
    "    prefix owl: <http://www.w3.org/2002/07/owl#>\n",
    "    prefix merged: <http://purl.obolibrary.org/obo/merged/>\n",
    "    \n",
    "    select distinct ?namespace ?relation ?label where \n",
    "    {\n",
    "      # set of BFO relations in RO\n",
    "      values ?bfo_ro \n",
    "      {\n",
    "        \"obo:BFO_0000050\" \n",
    "        \"obo:BFO_0000051\" \n",
    "        \"obo:BFO_0000054\" \n",
    "        \"obo:BFO_0000055\" \n",
    "        \"obo:BFO_0000060\" \n",
    "        \"obo:BFO_0000062\" \n",
    "        \"obo:BFO_0000063\" \n",
    "        \"obo:BFO_0000066\" \n",
    "        \"obo:BFO_0000067\" \n",
    "      }\n",
    "\n",
    "      graph merged:%s \n",
    "      {\n",
    "        # define types\n",
    "        ?s a owl:Class .\n",
    "        ?o a owl:Class .\n",
    "        ?r a owl:ObjectProperty .\n",
    "        \n",
    "        # find restrictions on class\n",
    "        ?s (rdfs:subClassOf | owl:equivalentClass)* ?b .\n",
    "        ?b owl:onProperty+ ?r ;\n",
    "          (owl:someValuesFrom|owl:allValuesFrom) ?o .\n",
    "        ?r rdfs:label ?lbl .\n",
    "      }\n",
    "      # bind variables as strings using curies for display and ease of use\n",
    "      bind(replace(str(?r), \"http://purl.obolibrary.org/obo/\", \"obo:\") as ?relation)\n",
    "      bind(replace(str(?s), \"http://purl.obolibrary.org/obo/\", \"obo:\") as ?class)\n",
    "      bind(str(?lbl) as ?label) # removes lang tag and datatype from lable\n",
    "      bind(\"%s\" as ?namespace)  # display namespace being uses\n",
    "\n",
    "      \n",
    "      # filter classes in namespace and RO or BFO/RO relations\n",
    "      filter(strstarts(?class, \"obo:%s_\"))\n",
    "      filter (strstarts(?relation, \"obo:RO_\") || ?relation in (?bfo_ro))\n",
    "    }\n",
    "    \"\"\" % (namespace, namespace, namespace)\n",
    "    return q"
   ]
  },
  {
   "cell_type": "code",
   "execution_count": 43,
   "id": "51c9c4c0-9348-4332-930c-d1b4159c68e6",
   "metadata": {
    "tags": []
   },
   "outputs": [],
   "source": [
    "# print(make_query(\"OHD\")) # testing"
   ]
  },
  {
   "cell_type": "markdown",
   "id": "8ca54aa4-3c05-4e54-855e-1b2d2e257758",
   "metadata": {},
   "source": [
    "### uncomment cell below get data (it takes a bit of time to execute)"
   ]
  },
  {
   "cell_type": "code",
   "execution_count": 44,
   "id": "98adfc73-71ba-40ff-8c1b-d5fdc7f8d703",
   "metadata": {
    "tags": []
   },
   "outputs": [],
   "source": [
    "# dfs = []\n",
    "# for obo_id in obo_ids:\n",
    "#     try:\n",
    "#         q = make_query(obo_id)\n",
    "#         dfs.append(get_sparql_dataframe(endpoint, q))\n",
    "#     except Exception as e:\n",
    "#         print(f'{obo_id} error:', e)"
   ]
  },
  {
   "cell_type": "code",
   "execution_count": null,
   "id": "34086310-431a-40e7-acd7-f2227e3beb6c",
   "metadata": {},
   "outputs": [],
   "source": []
  }
 ],
 "metadata": {
  "kernelspec": {
   "display_name": "Python 3 (ipykernel)",
   "language": "python",
   "name": "python3"
  },
  "language_info": {
   "codemirror_mode": {
    "name": "ipython",
    "version": 3
   },
   "file_extension": ".py",
   "mimetype": "text/x-python",
   "name": "python",
   "nbconvert_exporter": "python",
   "pygments_lexer": "ipython3",
   "version": "3.11.2"
  }
 },
 "nbformat": 4,
 "nbformat_minor": 5
}
