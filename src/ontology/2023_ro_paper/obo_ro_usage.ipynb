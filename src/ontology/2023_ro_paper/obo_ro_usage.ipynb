{
 "cells": [
  {
   "cell_type": "code",
   "execution_count": 4,
   "id": "a0b6f206-5de8-4be2-b80b-d0f1288f173b",
   "metadata": {},
   "outputs": [],
   "source": [
    "import yaml\n",
    "import pandas as pds\n",
    "import numpy as np\n",
    "import seaborn as sns\n",
    "import tarfile\n",
    "import matplotlib.pyplot as plt\n",
    "from collections import defaultdict"
   ]
  },
  {
   "cell_type": "markdown",
   "id": "9322ec14-ac7b-41a1-ada2-06f32f14ffab",
   "metadata": {},
   "source": [
    "### create list of obo ontologies from yaml file downloaded from obofoundry.org"
   ]
  },
  {
   "cell_type": "code",
   "execution_count": 7,
   "id": "86f65494-083a-4a36-acf2-c299c81390fb",
   "metadata": {
    "tags": []
   },
   "outputs": [],
   "source": [
    "with open('obo_ontologies.yml', 'r') as f:\n",
    "    obo_dict = yaml.safe_load(f)"
   ]
  },
  {
   "cell_type": "code",
   "execution_count": 31,
   "id": "e6a28a66-3b9a-4513-a65c-96102decb8fb",
   "metadata": {
    "tags": []
   },
   "outputs": [
    {
     "data": {
      "text/plain": [
       "256"
      ]
     },
     "execution_count": 31,
     "metadata": {},
     "output_type": "execute_result"
    }
   ],
   "source": [
    "obo_ids = [o[\"id\"].upper().strip() for o in obo_dict[\"ontologies\"]]\n",
    "len(obo_ids)"
   ]
  },
  {
   "cell_type": "code",
   "execution_count": 33,
   "id": "028b5eec-896d-49c4-b2df-9bed1839385c",
   "metadata": {
    "tags": []
   },
   "outputs": [],
   "source": [
    "# obo_ids[:5] # testing"
   ]
  },
  {
   "cell_type": "markdown",
   "id": "dd365906-b44d-4692-91f7-3bff32ed0c79",
   "metadata": {
    "tags": []
   },
   "source": [
    "### simple function identify an RO relation"
   ]
  },
  {
   "cell_type": "code",
   "execution_count": 3,
   "id": "c0f6c3be-e664-4879-bd36-06398cdcc752",
   "metadata": {
    "tags": [
     "function"
    ]
   },
   "outputs": [],
   "source": [
    "def is_ro_predicate(name):\n",
    "    bfo_relations = [\n",
    "        \"BFO:0000050\",\n",
    "        \"BFO:0000051\",\n",
    "        \"BFO:0000054\",\n",
    "        \"BFO:0000055\",\n",
    "        \"BFO:0000060\",\n",
    "        \"BFO:0000062\",\n",
    "        \"BFO:0000063\",\n",
    "        \"BFO:0000066\",\n",
    "        \"BFO:0000067\" \n",
    "    ]\n",
    "    return (name[0:3] == \"RO:\") or (name in bfo_relations)\n",
    "    "
   ]
  },
  {
   "cell_type": "markdown",
   "id": "e4e23bbd-8a95-434d-80cb-7ac09e3abc1e",
   "metadata": {},
   "source": [
    "### get list of obo statistics files from archive"
   ]
  },
  {
   "cell_type": "code",
   "execution_count": 45,
   "id": "bf857b02-6c38-4304-9232-5aae213b200d",
   "metadata": {
    "tags": []
   },
   "outputs": [],
   "source": [
    "with tarfile.open('statistics.tgz', 'r:*') as tar:\n",
    "    obo_filenames = [\n",
    "         name\n",
    "         for name in tar.getnames()\n",
    "        \n",
    "         # check id is an obo ontology: after the '/' and before the '.'\n",
    "         # e.g. statistics/ncro.statistics.yaml -> NCRO\n",
    "         if '/' in name and \\\n",
    "            name.split('/')[1].split('.')[0].upper() in obo_ids\n",
    "     ]"
   ]
  },
  {
   "cell_type": "code",
   "execution_count": 47,
   "id": "87bad9a0-f91e-4a1e-a599-b8bbd6cfba0a",
   "metadata": {
    "tags": []
   },
   "outputs": [],
   "source": [
    "# obo_filenames[:5] # testing"
   ]
  },
  {
   "cell_type": "markdown",
   "id": "3d87a7eb-7655-48f9-a128-9ed52094993e",
   "metadata": {},
   "source": [
    "### open each obo statistics tar file"
   ]
  },
  {
   "cell_type": "code",
   "execution_count": 76,
   "id": "50a6e5ce-07cc-4adb-b7f5-11fd415bdaa3",
   "metadata": {
    "tags": []
   },
   "outputs": [
    {
     "name": "stdout",
     "output_type": "stream",
     "text": [
      "HSAPDV: no partition key\n",
      "CHIRO: no partition key\n",
      "FBBI: no partition key\n",
      "WBLS: no partition key\n",
      "UPHENO: no edge_count_by_predicate\n",
      "FBBT: no partition key\n",
      "SBO: no partition key\n",
      "MMUSDV: no partition key\n",
      "FBDV: no partition key\n",
      "WBBT: no partition key\n",
      "SWO: no partition key\n",
      "KISAO: no partition key\n",
      "DPO: no partition key\n",
      "EPIO: no partition key\n",
      "EXO: no partition key\n",
      "{'id': ['PR', 'PR', 'PR', 'PR', 'PR', 'PR', 'PR', 'PR', 'PR'], 'relation': ['BFO:0000050', 'BFO:0000051', 'RO:0001000', 'RO:0001025', 'RO:0002160', 'RO:0002180', 'RO:0002215', 'RO:0002331', 'RO:0002353']}\n",
      "FBCV: no partition key\n",
      "CMO: no partition key\n",
      "PDUMDV: no partition key\n",
      "WBPHENOTYPE: no partition key\n",
      "NCBITAXON: no partition key\n",
      "FIDEO: no partition key\n",
      "OLATDV: no partition key\n"
     ]
    }
   ],
   "source": [
    "dfs = []\n",
    "with tarfile.open('statistics.tgz', 'r:*') as tar:\n",
    "    for member in tar.getmembers():\n",
    "        if member.isfile() and member.name in obo_filenames:\n",
    "            # get id ontology: after the '/' and before the '.'\n",
    "            # e.g. statistics/ncro.statistics.yaml -> NCRO\n",
    "            ns = member.name.split('/')[1].split('.')[0].upper()\n",
    "            stat_dict =  yaml.safe_load(tar.extractfile(member).read())\n",
    "            # predicates = stat_dict['partitions'][ns]['edge_count_by_predicate'].keys\n",
    "            \n",
    "            try:\n",
    "                partition = stat_dict['partitions'][ns]\n",
    "            except KeyError as ke:\n",
    "                print(f'{ns}: no partition key')\n",
    "                continue\n",
    "\n",
    "            try:\n",
    "                predicates = partition['edge_count_by_predicate'].keys()\n",
    "                ro_predicates = [p for p in predicates if is_ro_predicate(p)]  # filter for RO predicates\n",
    "                if len(ro_predicates) > 0:\n",
    "                    data = {'id': [ns]*len(ro_predicates), 'relation': ro_predicates}\n",
    "                else:\n",
    "                    data = {'id': [ns]*len(ro_predicates), 'relation': np.nan}\n",
    "                \n",
    "                # if ns == 'PR': print(data) # for testing\n",
    "                dfs.append(pds.DataFrame(data))\n",
    "            except KeyError as ke:\n",
    "                print(f'{ns}: no edge_count_by_predicate')\n",
    "                continue"
   ]
  },
  {
   "cell_type": "code",
   "execution_count": 77,
   "id": "f9513da6-e6cb-40c5-a89a-2e496e6e9c8d",
   "metadata": {
    "tags": []
   },
   "outputs": [
    {
     "data": {
      "text/html": [
       "<div>\n",
       "<style scoped>\n",
       "    .dataframe tbody tr th:only-of-type {\n",
       "        vertical-align: middle;\n",
       "    }\n",
       "\n",
       "    .dataframe tbody tr th {\n",
       "        vertical-align: top;\n",
       "    }\n",
       "\n",
       "    .dataframe thead th {\n",
       "        text-align: right;\n",
       "    }\n",
       "</style>\n",
       "<table border=\"1\" class=\"dataframe\">\n",
       "  <thead>\n",
       "    <tr style=\"text-align: right;\">\n",
       "      <th></th>\n",
       "      <th>id</th>\n",
       "      <th>relation</th>\n",
       "    </tr>\n",
       "  </thead>\n",
       "  <tbody>\n",
       "    <tr>\n",
       "      <th>0</th>\n",
       "      <td>NCRO</td>\n",
       "      <td>BFO:0000063</td>\n",
       "    </tr>\n",
       "    <tr>\n",
       "      <th>1</th>\n",
       "      <td>NCRO</td>\n",
       "      <td>RO:0000056</td>\n",
       "    </tr>\n",
       "    <tr>\n",
       "      <th>2</th>\n",
       "      <td>NCRO</td>\n",
       "      <td>RO:0000057</td>\n",
       "    </tr>\n",
       "    <tr>\n",
       "      <th>3</th>\n",
       "      <td>NCRO</td>\n",
       "      <td>RO:0001000</td>\n",
       "    </tr>\n",
       "    <tr>\n",
       "      <th>4</th>\n",
       "      <td>SCDO</td>\n",
       "      <td>RO:0003302</td>\n",
       "    </tr>\n",
       "    <tr>\n",
       "      <th>5</th>\n",
       "      <td>SCDO</td>\n",
       "      <td>RO:0003303</td>\n",
       "    </tr>\n",
       "    <tr>\n",
       "      <th>6</th>\n",
       "      <td>STATO</td>\n",
       "      <td>BFO:0000050</td>\n",
       "    </tr>\n",
       "    <tr>\n",
       "      <th>7</th>\n",
       "      <td>STATO</td>\n",
       "      <td>BFO:0000051</td>\n",
       "    </tr>\n",
       "    <tr>\n",
       "      <th>8</th>\n",
       "      <td>STATO</td>\n",
       "      <td>BFO:0000054</td>\n",
       "    </tr>\n",
       "    <tr>\n",
       "      <th>9</th>\n",
       "      <td>STATO</td>\n",
       "      <td>BFO:0000062</td>\n",
       "    </tr>\n",
       "  </tbody>\n",
       "</table>\n",
       "</div>"
      ],
      "text/plain": [
       "      id     relation\n",
       "0   NCRO  BFO:0000063\n",
       "1   NCRO   RO:0000056\n",
       "2   NCRO   RO:0000057\n",
       "3   NCRO   RO:0001000\n",
       "4   SCDO   RO:0003302\n",
       "5   SCDO   RO:0003303\n",
       "6  STATO  BFO:0000050\n",
       "7  STATO  BFO:0000051\n",
       "8  STATO  BFO:0000054\n",
       "9  STATO  BFO:0000062"
      ]
     },
     "execution_count": 77,
     "metadata": {},
     "output_type": "execute_result"
    }
   ],
   "source": [
    "df = pds.concat(dfs, ignore_index=True)\n",
    "df.head(10)"
   ]
  },
  {
   "cell_type": "code",
   "execution_count": 78,
   "id": "7513b78a-3f59-49e5-b9ba-03ed769e8b87",
   "metadata": {
    "tags": []
   },
   "outputs": [],
   "source": [
    "df.to_csv('obo_ro_usage.tsv', sep='\\t', index=False)"
   ]
  },
  {
   "cell_type": "code",
   "execution_count": 79,
   "id": "0aa2dfab-bdf8-4655-815d-eb38ccfc21ee",
   "metadata": {
    "tags": []
   },
   "outputs": [],
   "source": [
    "temp_df  = df[['id', 'relation']].query('id != \"RO\"').drop_duplicates()"
   ]
  },
  {
   "cell_type": "code",
   "execution_count": 80,
   "id": "48ae698a-3f00-4d4f-b60a-056adf0d4c73",
   "metadata": {
    "tags": []
   },
   "outputs": [
    {
     "data": {
      "text/plain": [
       "722"
      ]
     },
     "execution_count": 80,
     "metadata": {},
     "output_type": "execute_result"
    }
   ],
   "source": [
    "len(temp_df)"
   ]
  },
  {
   "cell_type": "code",
   "execution_count": 81,
   "id": "79877ba7-4fc5-4f66-8072-7578fed8f05c",
   "metadata": {
    "tags": []
   },
   "outputs": [
    {
     "data": {
      "text/plain": [
       "UBERON    73\n",
       "GO        66\n",
       "ENVO      60\n",
       "CL        32\n",
       "MONDO     20\n",
       "          ..\n",
       "MOP        1\n",
       "BSPO       1\n",
       "ZP         1\n",
       "OHPI       1\n",
       "OGG        1\n",
       "Name: id, Length: 99, dtype: int64"
      ]
     },
     "execution_count": 81,
     "metadata": {},
     "output_type": "execute_result"
    }
   ],
   "source": [
    "temp_df.id.value_counts()"
   ]
  },
  {
   "cell_type": "code",
   "execution_count": 82,
   "id": "f0a1b0ae-b167-4f83-950e-bc3278fce0a8",
   "metadata": {
    "tags": []
   },
   "outputs": [
    {
     "data": {
      "image/png": "[encoded data removed]",
      "text/plain": [
       "<Figure size 640x480 with 1 Axes>"
      ]
     },
     "metadata": {},
     "output_type": "display_data"
    }
   ],
   "source": [
    "plot_df = pds.DataFrame(temp_df.id.value_counts().head(25).reset_index())\n",
    "ax = sns.barplot(y='index', x='id', data=plot_df, palette='viridis') #color='steelblue')\n",
    "ax.set(xlabel='Number of RO relations used', ylabel=None)\n",
    "plt.show()"
   ]
  },
  {
   "cell_type": "code",
   "execution_count": 83,
   "id": "1eb571c8-1a78-4e0f-90f0-63d99f9fa354",
   "metadata": {
    "tags": []
   },
   "outputs": [
    {
     "data": {
      "text/plain": [
       "id  relation   \n",
       "GO  BFO:0000050    1\n",
       "    RO:0002578     1\n",
       "    RO:0002334     1\n",
       "    RO:0002338     1\n",
       "    RO:0002339     1\n",
       "                  ..\n",
       "    RO:0002234     1\n",
       "    RO:0002295     1\n",
       "    RO:0002296     1\n",
       "    RO:0002297     1\n",
       "    RO:0040036     1\n",
       "Length: 66, dtype: int64"
      ]
     },
     "execution_count": 83,
     "metadata": {},
     "output_type": "execute_result"
    }
   ],
   "source": [
    "temp_df.query(\"id == 'GO'\").value_counts()"
   ]
  },
  {
   "cell_type": "markdown",
   "id": "61224c09-ddfa-4da5-acbd-c2d139aba052",
   "metadata": {},
   "source": [
    "---"
   ]
  },
  {
   "cell_type": "markdown",
   "id": "c26e92d3-0c76-4a04-a555-c56737228464",
   "metadata": {},
   "source": [
    "#### keeping old code for querying ontobee around for posterity"
   ]
  },
  {
   "cell_type": "code",
   "execution_count": 84,
   "id": "69dbed94-bc8a-4426-ab60-c2d83f59c4e8",
   "metadata": {
    "tags": []
   },
   "outputs": [],
   "source": [
    "import pandas as pds\n",
    "from SPARQLWrapper import SPARQLWrapper, JSON\n",
    "from SPARQLWrapper.sparql_dataframe import get_sparql_dataframe"
   ]
  },
  {
   "cell_type": "markdown",
   "id": "c0e57ae7-d764-499f-9ff3-753321e3fec7",
   "metadata": {},
   "source": [
    "set Ontobee endpoint and return format"
   ]
  },
  {
   "cell_type": "code",
   "execution_count": 85,
   "id": "f535e740-57c9-4bf1-9fda-287f68cb0b4e",
   "metadata": {
    "tags": []
   },
   "outputs": [],
   "source": [
    "endpoint = \"http://sparql.hegroup.org/sparql/\""
   ]
  },
  {
   "cell_type": "code",
   "execution_count": 86,
   "id": "b2ce2907-18eb-4135-b14f-2c1b8b2ab5b2",
   "metadata": {
    "tags": []
   },
   "outputs": [],
   "source": [
    "sparql = SPARQLWrapper(endpoint)\n",
    "sparql.setReturnFormat(JSON)"
   ]
  },
  {
   "cell_type": "code",
   "execution_count": 87,
   "id": "d5df6670-e2c3-40b8-a5fe-eb340d281a53",
   "metadata": {
    "tags": []
   },
   "outputs": [],
   "source": [
    "def make_query(namespace):\n",
    "    q = \"\"\"\n",
    "    prefix rdf: <http://www.w3.org/1999/02/22-rdf-syntax-ns#>\n",
    "    prefix rdfs: <http://www.w3.org/2000/01/rdf-schema#>\n",
    "    prefix owl: <http://www.w3.org/2002/07/owl#>\n",
    "    prefix merged: <http://purl.obolibrary.org/obo/merged/>\n",
    "    \n",
    "    select distinct ?namespace ?relation ?label where \n",
    "    {\n",
    "      # set of BFO relations in RO\n",
    "      values ?bfo_ro \n",
    "      {\n",
    "        \"obo:BFO_0000050\" \n",
    "        \"obo:BFO_0000051\" \n",
    "        \"obo:BFO_0000054\" \n",
    "        \"obo:BFO_0000055\" \n",
    "        \"obo:BFO_0000060\" \n",
    "        \"obo:BFO_0000062\" \n",
    "        \"obo:BFO_0000063\" \n",
    "        \"obo:BFO_0000066\" \n",
    "        \"obo:BFO_0000067\" \n",
    "      }\n",
    "\n",
    "      graph merged:%s \n",
    "      {\n",
    "        # define types\n",
    "        ?s a owl:Class .\n",
    "        ?o a owl:Class .\n",
    "        ?r a owl:ObjectProperty .\n",
    "        \n",
    "        # find restrictions on class\n",
    "        ?s (rdfs:subClassOf | owl:equivalentClass)* ?b .\n",
    "        ?b owl:onProperty+ ?r ;\n",
    "          (owl:someValuesFrom|owl:allValuesFrom) ?o .\n",
    "        ?r rdfs:label ?lbl .\n",
    "      }\n",
    "      # bind variables as strings using curies for display and ease of use\n",
    "      bind(replace(str(?r), \"http://purl.obolibrary.org/obo/\", \"obo:\") as ?relation)\n",
    "      bind(replace(str(?s), \"http://purl.obolibrary.org/obo/\", \"obo:\") as ?class)\n",
    "      bind(str(?lbl) as ?label) # removes lang tag and datatype from lable\n",
    "      bind(\"%s\" as ?namespace)  # display namespace being uses\n",
    "\n",
    "      \n",
    "      # filter classes in namespace and RO or BFO/RO relations\n",
    "      filter(strstarts(?class, \"obo:%s_\"))\n",
    "      filter (strstarts(?relation, \"obo:RO_\") || ?relation in (?bfo_ro))\n",
    "    }\n",
    "    \"\"\" % (namespace, namespace, namespace)\n",
    "    return q"
   ]
  },
  {
   "cell_type": "code",
   "execution_count": 88,
   "id": "51c9c4c0-9348-4332-930c-d1b4159c68e6",
   "metadata": {
    "tags": []
   },
   "outputs": [],
   "source": [
    "# print(make_query(\"OHD\")) # testing"
   ]
  },
  {
   "cell_type": "code",
   "execution_count": 89,
   "id": "98adfc73-71ba-40ff-8c1b-d5fdc7f8d703",
   "metadata": {
    "tags": []
   },
   "outputs": [],
   "source": [
    "dfs = []\n",
    "for obo_id in obo_ids:\n",
    "    try:\n",
    "        q = make_query(obo_id)\n",
    "        # dfs.append(get_sparql_dataframe(endpoint, q)) # uncomment to get data\n",
    "    except Exception as e:\n",
    "        print(f'{obo_id} error:', e)"
   ]
  },
  {
   "cell_type": "code",
   "execution_count": null,
   "id": "34086310-431a-40e7-acd7-f2227e3beb6c",
   "metadata": {},
   "outputs": [],
   "source": []
  }
 ],
 "metadata": {
  "kernelspec": {
   "display_name": "Python 3 (ipykernel)",
   "language": "python",
   "name": "python3"
  },
  "language_info": {
   "codemirror_mode": {
    "name": "ipython",
    "version": 3
   },
   "file_extension": ".py",
   "mimetype": "text/x-python",
   "name": "python",
   "nbconvert_exporter": "python",
   "pygments_lexer": "ipython3",
   "version": "3.11.2"
  }
 },
 "nbformat": 4,
 "nbformat_minor": 5
}
